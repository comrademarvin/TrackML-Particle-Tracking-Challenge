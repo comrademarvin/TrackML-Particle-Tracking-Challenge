{
 "cells": [
  {
   "cell_type": "markdown",
   "id": "2e5ab293",
   "metadata": {},
   "source": [
    "# Data Science of High Energy Physics Project Report\n",
    "## Title: TrackML Particle Tracking Challenge (High Energy Physics particle tracking in CERN detectors)\n",
    "## Author: Stephan Potgieter (PTGJAK001)"
   ]
  },
  {
   "cell_type": "markdown",
   "id": "d43adaaf",
   "metadata": {},
   "source": [
    "### Introduction\n",
    "The Large Hadron Collider (LHC) is a high energy particle collider set up by CERN to experimentally investigate predictions and properties of the Standard Model - with the hope to either verify the model or uncover new physics that needs to be accounted for. Experiments like ATLAS and ALICE make use of the LHC to collide certain hadrons (heavy-ions like protons or lead nuclei in the case of ALICE) and then investigate the properties and distributions of the particles that scatter out from these collisions.\n",
    "\n",
    "Multiple detectors are set up around the collision beam to gather enough information about the scattering particles, with the aim to be able to identify all of them as accurately as possible and obtain enough particle-specific information (like momentum and energy deposit) to investigate statistical distributions of the resulting collisions. On a very simplified level, these detectors make use of certain materials and electronics to measure \"hits\" of the particles that pass through them. After a collisions takes place, the detectors will \"light-up\" with many hits from the resulting scattering particles that pass through them. Thus, a very important task is then to be able to use this hit information to identify and fit global tracks of individual particles.\n",
    "\n",
    "#### Problem Statement:\n",
    "In this project we will attempt the TrackML Particle Tracking Challenge presented by Kaggle, where we will investigate whether a Neural Network can be meaningfully used to accurately join hits from detectors to form tracks of the particles associated with them."
   ]
  },
  {
   "cell_type": "markdown",
   "id": "0733d608",
   "metadata": {},
   "source": [
    "### Approach and Analysis:\n",
    "\n",
    "#### Data format:\n",
    "\n",
    "\n",
    "#### Input to Neural Network:\n",
    "\n",
    "\n",
    "#### Filtering of hit pairs:\n"
   ]
  },
  {
   "cell_type": "markdown",
   "id": "f2c70553",
   "metadata": {},
   "source": [
    "### Results:\n"
   ]
  },
  {
   "cell_type": "markdown",
   "id": "352fb567",
   "metadata": {},
   "source": [
    "### Conclusion:\n"
   ]
  },
  {
   "cell_type": "code",
   "execution_count": null,
   "id": "ef54ab84",
   "metadata": {},
   "outputs": [],
   "source": []
  }
 ],
 "metadata": {
  "kernelspec": {
   "display_name": "Python 3 (ipykernel)",
   "language": "python",
   "name": "python3"
  },
  "language_info": {
   "codemirror_mode": {
    "name": "ipython",
    "version": 3
   },
   "file_extension": ".py",
   "mimetype": "text/x-python",
   "name": "python",
   "nbconvert_exporter": "python",
   "pygments_lexer": "ipython3",
   "version": "3.10.4"
  }
 },
 "nbformat": 4,
 "nbformat_minor": 5
}
