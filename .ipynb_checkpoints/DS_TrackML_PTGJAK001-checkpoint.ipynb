{
 "cells": [
  {
   "cell_type": "markdown",
   "id": "d3668728",
   "metadata": {},
   "source": [
    "# TrackML DS Project "
   ]
  },
  {
   "cell_type": "code",
   "execution_count": 1,
   "id": "d4cc65b4",
   "metadata": {},
   "outputs": [],
   "source": [
    "import pandas as pd\n",
    "import matplotlib\n",
    "import matplotlib.pyplot as plt\n",
    "import numpy as np\n",
    "import keras\n",
    "from keras.models import Sequential\n",
    "from keras.layers import Dense  \n",
    "from keras import backend as K\n",
    "import trackml\n",
    "from sklearn import metrics"
   ]
  },
  {
   "cell_type": "markdown",
   "id": "63027e9f",
   "metadata": {},
   "source": [
    "### Load first event data for training and inspect contents of the data"
   ]
  },
  {
   "cell_type": "code",
   "execution_count": 8,
   "id": "3269249c",
   "metadata": {
    "scrolled": true
   },
   "outputs": [
    {
     "data": {
      "text/html": [
       "<div>\n",
       "<style scoped>\n",
       "    .dataframe tbody tr th:only-of-type {\n",
       "        vertical-align: middle;\n",
       "    }\n",
       "\n",
       "    .dataframe tbody tr th {\n",
       "        vertical-align: top;\n",
       "    }\n",
       "\n",
       "    .dataframe thead th {\n",
       "        text-align: right;\n",
       "    }\n",
       "</style>\n",
       "<table border=\"1\" class=\"dataframe\">\n",
       "  <thead>\n",
       "    <tr style=\"text-align: right;\">\n",
       "      <th></th>\n",
       "      <th>hit_id</th>\n",
       "      <th>x</th>\n",
       "      <th>y</th>\n",
       "      <th>z</th>\n",
       "      <th>volume_id</th>\n",
       "      <th>layer_id</th>\n",
       "      <th>module_id</th>\n",
       "    </tr>\n",
       "  </thead>\n",
       "  <tbody>\n",
       "    <tr>\n",
       "      <th>0</th>\n",
       "      <td>1</td>\n",
       "      <td>-64.409897</td>\n",
       "      <td>-7.163700</td>\n",
       "      <td>-1502.5</td>\n",
       "      <td>7</td>\n",
       "      <td>2</td>\n",
       "      <td>1</td>\n",
       "    </tr>\n",
       "    <tr>\n",
       "      <th>1</th>\n",
       "      <td>2</td>\n",
       "      <td>-55.336102</td>\n",
       "      <td>0.635342</td>\n",
       "      <td>-1502.5</td>\n",
       "      <td>7</td>\n",
       "      <td>2</td>\n",
       "      <td>1</td>\n",
       "    </tr>\n",
       "    <tr>\n",
       "      <th>2</th>\n",
       "      <td>3</td>\n",
       "      <td>-83.830498</td>\n",
       "      <td>-1.143010</td>\n",
       "      <td>-1502.5</td>\n",
       "      <td>7</td>\n",
       "      <td>2</td>\n",
       "      <td>1</td>\n",
       "    </tr>\n",
       "    <tr>\n",
       "      <th>3</th>\n",
       "      <td>4</td>\n",
       "      <td>-96.109100</td>\n",
       "      <td>-8.241030</td>\n",
       "      <td>-1502.5</td>\n",
       "      <td>7</td>\n",
       "      <td>2</td>\n",
       "      <td>1</td>\n",
       "    </tr>\n",
       "    <tr>\n",
       "      <th>4</th>\n",
       "      <td>5</td>\n",
       "      <td>-62.673599</td>\n",
       "      <td>-9.371200</td>\n",
       "      <td>-1502.5</td>\n",
       "      <td>7</td>\n",
       "      <td>2</td>\n",
       "      <td>1</td>\n",
       "    </tr>\n",
       "    <tr>\n",
       "      <th>...</th>\n",
       "      <td>...</td>\n",
       "      <td>...</td>\n",
       "      <td>...</td>\n",
       "      <td>...</td>\n",
       "      <td>...</td>\n",
       "      <td>...</td>\n",
       "      <td>...</td>\n",
       "    </tr>\n",
       "    <tr>\n",
       "      <th>120934</th>\n",
       "      <td>120935</td>\n",
       "      <td>-763.862976</td>\n",
       "      <td>51.569401</td>\n",
       "      <td>2944.5</td>\n",
       "      <td>18</td>\n",
       "      <td>12</td>\n",
       "      <td>97</td>\n",
       "    </tr>\n",
       "    <tr>\n",
       "      <th>120935</th>\n",
       "      <td>120936</td>\n",
       "      <td>-808.705017</td>\n",
       "      <td>3.459260</td>\n",
       "      <td>2944.5</td>\n",
       "      <td>18</td>\n",
       "      <td>12</td>\n",
       "      <td>97</td>\n",
       "    </tr>\n",
       "    <tr>\n",
       "      <th>120936</th>\n",
       "      <td>120937</td>\n",
       "      <td>-982.935974</td>\n",
       "      <td>41.460899</td>\n",
       "      <td>2952.5</td>\n",
       "      <td>18</td>\n",
       "      <td>12</td>\n",
       "      <td>98</td>\n",
       "    </tr>\n",
       "    <tr>\n",
       "      <th>120937</th>\n",
       "      <td>120938</td>\n",
       "      <td>-942.698975</td>\n",
       "      <td>18.489100</td>\n",
       "      <td>2952.5</td>\n",
       "      <td>18</td>\n",
       "      <td>12</td>\n",
       "      <td>98</td>\n",
       "    </tr>\n",
       "    <tr>\n",
       "      <th>120938</th>\n",
       "      <td>120939</td>\n",
       "      <td>-922.890015</td>\n",
       "      <td>2.092850</td>\n",
       "      <td>2952.5</td>\n",
       "      <td>18</td>\n",
       "      <td>12</td>\n",
       "      <td>98</td>\n",
       "    </tr>\n",
       "  </tbody>\n",
       "</table>\n",
       "<p>120939 rows × 7 columns</p>\n",
       "</div>"
      ],
      "text/plain": [
       "        hit_id           x          y       z  volume_id  layer_id  module_id\n",
       "0            1  -64.409897  -7.163700 -1502.5          7         2          1\n",
       "1            2  -55.336102   0.635342 -1502.5          7         2          1\n",
       "2            3  -83.830498  -1.143010 -1502.5          7         2          1\n",
       "3            4  -96.109100  -8.241030 -1502.5          7         2          1\n",
       "4            5  -62.673599  -9.371200 -1502.5          7         2          1\n",
       "...        ...         ...        ...     ...        ...       ...        ...\n",
       "120934  120935 -763.862976  51.569401  2944.5         18        12         97\n",
       "120935  120936 -808.705017   3.459260  2944.5         18        12         97\n",
       "120936  120937 -982.935974  41.460899  2952.5         18        12         98\n",
       "120937  120938 -942.698975  18.489100  2952.5         18        12         98\n",
       "120938  120939 -922.890015   2.092850  2952.5         18        12         98\n",
       "\n",
       "[120939 rows x 7 columns]"
      ]
     },
     "execution_count": 8,
     "metadata": {},
     "output_type": "execute_result"
    }
   ],
   "source": [
    "# training dataset - one event\n",
    "from trackml.dataset import load_event\n",
    "\n",
    "hits_first, cells_first, particles_first, truth_first = load_event('../TrackML-Data/train_100_events/event000001000')\n",
    "\n",
    "hits_first"
   ]
  },
  {
   "cell_type": "code",
   "execution_count": 5,
   "id": "2db90b7e",
   "metadata": {},
   "outputs": [
    {
     "data": {
      "text/html": [
       "<div>\n",
       "<style scoped>\n",
       "    .dataframe tbody tr th:only-of-type {\n",
       "        vertical-align: middle;\n",
       "    }\n",
       "\n",
       "    .dataframe tbody tr th {\n",
       "        vertical-align: top;\n",
       "    }\n",
       "\n",
       "    .dataframe thead th {\n",
       "        text-align: right;\n",
       "    }\n",
       "</style>\n",
       "<table border=\"1\" class=\"dataframe\">\n",
       "  <thead>\n",
       "    <tr style=\"text-align: right;\">\n",
       "      <th></th>\n",
       "      <th>hit_id</th>\n",
       "      <th>ch0</th>\n",
       "      <th>ch1</th>\n",
       "      <th>value</th>\n",
       "    </tr>\n",
       "  </thead>\n",
       "  <tbody>\n",
       "    <tr>\n",
       "      <th>0</th>\n",
       "      <td>1</td>\n",
       "      <td>209</td>\n",
       "      <td>617</td>\n",
       "      <td>0.013832</td>\n",
       "    </tr>\n",
       "    <tr>\n",
       "      <th>1</th>\n",
       "      <td>1</td>\n",
       "      <td>210</td>\n",
       "      <td>617</td>\n",
       "      <td>0.079887</td>\n",
       "    </tr>\n",
       "    <tr>\n",
       "      <th>2</th>\n",
       "      <td>1</td>\n",
       "      <td>209</td>\n",
       "      <td>618</td>\n",
       "      <td>0.211723</td>\n",
       "    </tr>\n",
       "    <tr>\n",
       "      <th>3</th>\n",
       "      <td>2</td>\n",
       "      <td>68</td>\n",
       "      <td>446</td>\n",
       "      <td>0.334087</td>\n",
       "    </tr>\n",
       "    <tr>\n",
       "      <th>4</th>\n",
       "      <td>3</td>\n",
       "      <td>58</td>\n",
       "      <td>954</td>\n",
       "      <td>0.034005</td>\n",
       "    </tr>\n",
       "    <tr>\n",
       "      <th>...</th>\n",
       "      <td>...</td>\n",
       "      <td>...</td>\n",
       "      <td>...</td>\n",
       "      <td>...</td>\n",
       "    </tr>\n",
       "    <tr>\n",
       "      <th>664991</th>\n",
       "      <td>120936</td>\n",
       "      <td>122</td>\n",
       "      <td>5</td>\n",
       "      <td>1.000000</td>\n",
       "    </tr>\n",
       "    <tr>\n",
       "      <th>664992</th>\n",
       "      <td>120936</td>\n",
       "      <td>123</td>\n",
       "      <td>5</td>\n",
       "      <td>1.000000</td>\n",
       "    </tr>\n",
       "    <tr>\n",
       "      <th>664993</th>\n",
       "      <td>120937</td>\n",
       "      <td>430</td>\n",
       "      <td>11</td>\n",
       "      <td>1.000000</td>\n",
       "    </tr>\n",
       "    <tr>\n",
       "      <th>664994</th>\n",
       "      <td>120938</td>\n",
       "      <td>260</td>\n",
       "      <td>7</td>\n",
       "      <td>1.000000</td>\n",
       "    </tr>\n",
       "    <tr>\n",
       "      <th>664995</th>\n",
       "      <td>120939</td>\n",
       "      <td>134</td>\n",
       "      <td>5</td>\n",
       "      <td>1.000000</td>\n",
       "    </tr>\n",
       "  </tbody>\n",
       "</table>\n",
       "<p>664996 rows × 4 columns</p>\n",
       "</div>"
      ],
      "text/plain": [
       "        hit_id  ch0  ch1     value\n",
       "0            1  209  617  0.013832\n",
       "1            1  210  617  0.079887\n",
       "2            1  209  618  0.211723\n",
       "3            2   68  446  0.334087\n",
       "4            3   58  954  0.034005\n",
       "...        ...  ...  ...       ...\n",
       "664991  120936  122    5  1.000000\n",
       "664992  120936  123    5  1.000000\n",
       "664993  120937  430   11  1.000000\n",
       "664994  120938  260    7  1.000000\n",
       "664995  120939  134    5  1.000000\n",
       "\n",
       "[664996 rows x 4 columns]"
      ]
     },
     "execution_count": 5,
     "metadata": {},
     "output_type": "execute_result"
    }
   ],
   "source": [
    "cells_first"
   ]
  },
  {
   "cell_type": "code",
   "execution_count": 6,
   "id": "66b1eb1e",
   "metadata": {},
   "outputs": [
    {
     "data": {
      "text/html": [
       "<div>\n",
       "<style scoped>\n",
       "    .dataframe tbody tr th:only-of-type {\n",
       "        vertical-align: middle;\n",
       "    }\n",
       "\n",
       "    .dataframe tbody tr th {\n",
       "        vertical-align: top;\n",
       "    }\n",
       "\n",
       "    .dataframe thead th {\n",
       "        text-align: right;\n",
       "    }\n",
       "</style>\n",
       "<table border=\"1\" class=\"dataframe\">\n",
       "  <thead>\n",
       "    <tr style=\"text-align: right;\">\n",
       "      <th></th>\n",
       "      <th>hit_id</th>\n",
       "      <th>particle_id</th>\n",
       "      <th>tx</th>\n",
       "      <th>ty</th>\n",
       "      <th>tz</th>\n",
       "      <th>tpx</th>\n",
       "      <th>tpy</th>\n",
       "      <th>tpz</th>\n",
       "      <th>weight</th>\n",
       "    </tr>\n",
       "  </thead>\n",
       "  <tbody>\n",
       "    <tr>\n",
       "      <th>0</th>\n",
       "      <td>1</td>\n",
       "      <td>0</td>\n",
       "      <td>-64.411598</td>\n",
       "      <td>-7.164120</td>\n",
       "      <td>-1502.5</td>\n",
       "      <td>250710.000000</td>\n",
       "      <td>-149908.000000</td>\n",
       "      <td>-956385.000000</td>\n",
       "      <td>0.000000</td>\n",
       "    </tr>\n",
       "    <tr>\n",
       "      <th>1</th>\n",
       "      <td>2</td>\n",
       "      <td>22525763437723648</td>\n",
       "      <td>-55.338501</td>\n",
       "      <td>0.630805</td>\n",
       "      <td>-1502.5</td>\n",
       "      <td>-0.570605</td>\n",
       "      <td>0.028390</td>\n",
       "      <td>-15.492200</td>\n",
       "      <td>0.000010</td>\n",
       "    </tr>\n",
       "    <tr>\n",
       "      <th>2</th>\n",
       "      <td>3</td>\n",
       "      <td>0</td>\n",
       "      <td>-83.828003</td>\n",
       "      <td>-1.145580</td>\n",
       "      <td>-1502.5</td>\n",
       "      <td>626295.000000</td>\n",
       "      <td>-169767.000000</td>\n",
       "      <td>-760877.000000</td>\n",
       "      <td>0.000000</td>\n",
       "    </tr>\n",
       "    <tr>\n",
       "      <th>3</th>\n",
       "      <td>4</td>\n",
       "      <td>297237712845406208</td>\n",
       "      <td>-96.122902</td>\n",
       "      <td>-8.230360</td>\n",
       "      <td>-1502.5</td>\n",
       "      <td>-0.225235</td>\n",
       "      <td>-0.050968</td>\n",
       "      <td>-3.702320</td>\n",
       "      <td>0.000008</td>\n",
       "    </tr>\n",
       "    <tr>\n",
       "      <th>4</th>\n",
       "      <td>5</td>\n",
       "      <td>418835796137607168</td>\n",
       "      <td>-62.659401</td>\n",
       "      <td>-9.375040</td>\n",
       "      <td>-1502.5</td>\n",
       "      <td>-0.281806</td>\n",
       "      <td>-0.023487</td>\n",
       "      <td>-6.573180</td>\n",
       "      <td>0.000009</td>\n",
       "    </tr>\n",
       "    <tr>\n",
       "      <th>...</th>\n",
       "      <td>...</td>\n",
       "      <td>...</td>\n",
       "      <td>...</td>\n",
       "      <td>...</td>\n",
       "      <td>...</td>\n",
       "      <td>...</td>\n",
       "      <td>...</td>\n",
       "      <td>...</td>\n",
       "      <td>...</td>\n",
       "    </tr>\n",
       "    <tr>\n",
       "      <th>120934</th>\n",
       "      <td>120935</td>\n",
       "      <td>445864815605317632</td>\n",
       "      <td>-763.383972</td>\n",
       "      <td>51.544998</td>\n",
       "      <td>2944.5</td>\n",
       "      <td>-1.640200</td>\n",
       "      <td>0.208933</td>\n",
       "      <td>6.293810</td>\n",
       "      <td>0.000018</td>\n",
       "    </tr>\n",
       "    <tr>\n",
       "      <th>120935</th>\n",
       "      <td>120936</td>\n",
       "      <td>900720956266250240</td>\n",
       "      <td>-804.664978</td>\n",
       "      <td>3.186900</td>\n",
       "      <td>2944.5</td>\n",
       "      <td>-0.315684</td>\n",
       "      <td>-0.094259</td>\n",
       "      <td>1.328200</td>\n",
       "      <td>0.000007</td>\n",
       "    </tr>\n",
       "    <tr>\n",
       "      <th>120936</th>\n",
       "      <td>120937</td>\n",
       "      <td>238705348779704320</td>\n",
       "      <td>-986.989014</td>\n",
       "      <td>41.731300</td>\n",
       "      <td>2952.5</td>\n",
       "      <td>-0.212508</td>\n",
       "      <td>0.095667</td>\n",
       "      <td>0.731932</td>\n",
       "      <td>0.000009</td>\n",
       "    </tr>\n",
       "    <tr>\n",
       "      <th>120937</th>\n",
       "      <td>120938</td>\n",
       "      <td>373800349619716096</td>\n",
       "      <td>-947.005005</td>\n",
       "      <td>18.764999</td>\n",
       "      <td>2952.5</td>\n",
       "      <td>-0.165762</td>\n",
       "      <td>-0.103945</td>\n",
       "      <td>0.800783</td>\n",
       "      <td>0.000007</td>\n",
       "    </tr>\n",
       "    <tr>\n",
       "      <th>120938</th>\n",
       "      <td>120939</td>\n",
       "      <td>238694972138717184</td>\n",
       "      <td>-926.257019</td>\n",
       "      <td>2.309990</td>\n",
       "      <td>2952.5</td>\n",
       "      <td>-1.741690</td>\n",
       "      <td>0.112363</td>\n",
       "      <td>5.503780</td>\n",
       "      <td>0.000021</td>\n",
       "    </tr>\n",
       "  </tbody>\n",
       "</table>\n",
       "<p>120939 rows × 9 columns</p>\n",
       "</div>"
      ],
      "text/plain": [
       "        hit_id         particle_id          tx         ty      tz  \\\n",
       "0            1                   0  -64.411598  -7.164120 -1502.5   \n",
       "1            2   22525763437723648  -55.338501   0.630805 -1502.5   \n",
       "2            3                   0  -83.828003  -1.145580 -1502.5   \n",
       "3            4  297237712845406208  -96.122902  -8.230360 -1502.5   \n",
       "4            5  418835796137607168  -62.659401  -9.375040 -1502.5   \n",
       "...        ...                 ...         ...        ...     ...   \n",
       "120934  120935  445864815605317632 -763.383972  51.544998  2944.5   \n",
       "120935  120936  900720956266250240 -804.664978   3.186900  2944.5   \n",
       "120936  120937  238705348779704320 -986.989014  41.731300  2952.5   \n",
       "120937  120938  373800349619716096 -947.005005  18.764999  2952.5   \n",
       "120938  120939  238694972138717184 -926.257019   2.309990  2952.5   \n",
       "\n",
       "                  tpx            tpy            tpz    weight  \n",
       "0       250710.000000 -149908.000000 -956385.000000  0.000000  \n",
       "1           -0.570605       0.028390     -15.492200  0.000010  \n",
       "2       626295.000000 -169767.000000 -760877.000000  0.000000  \n",
       "3           -0.225235      -0.050968      -3.702320  0.000008  \n",
       "4           -0.281806      -0.023487      -6.573180  0.000009  \n",
       "...               ...            ...            ...       ...  \n",
       "120934      -1.640200       0.208933       6.293810  0.000018  \n",
       "120935      -0.315684      -0.094259       1.328200  0.000007  \n",
       "120936      -0.212508       0.095667       0.731932  0.000009  \n",
       "120937      -0.165762      -0.103945       0.800783  0.000007  \n",
       "120938      -1.741690       0.112363       5.503780  0.000021  \n",
       "\n",
       "[120939 rows x 9 columns]"
      ]
     },
     "execution_count": 6,
     "metadata": {},
     "output_type": "execute_result"
    }
   ],
   "source": [
    "truth_first"
   ]
  },
  {
   "cell_type": "code",
   "execution_count": 8,
   "id": "85b95fc7",
   "metadata": {},
   "outputs": [
    {
     "name": "stdout",
     "output_type": "stream",
     "text": [
      "1 0.0138317\n",
      "1 0.0798866\n",
      "1 0.211723\n",
      "2 0.334087\n",
      "3 0.0340049\n",
      "3 0.00779792\n",
      "3 0.0198969\n",
      "3 0.0999644\n",
      "3 0.0655761\n",
      "3 0.0186967\n",
      "        hit_id  ch0  ch1     value\n",
      "0            1  209  617  0.013832\n",
      "1            1  210  617  0.079887\n",
      "2            1  209  618  0.211723\n",
      "3            2   68  446  0.334087\n",
      "4            3   58  954  0.034005\n",
      "...        ...  ...  ...       ...\n",
      "664991  120936  122    5  1.000000\n",
      "664992  120936  123    5  1.000000\n",
      "664993  120937  430   11  1.000000\n",
      "664994  120938  260    7  1.000000\n",
      "664995  120939  134    5  1.000000\n",
      "\n",
      "[664996 rows x 4 columns]\n"
     ]
    }
   ],
   "source": [
    "# inspect structure of cells data\n",
    "for i in range(10):\n",
    "    print(cells_first['hit_id'][i], cells_first['value'][i])\n",
    "print(cells_first)"
   ]
  },
  {
   "cell_type": "code",
   "execution_count": 3,
   "id": "3fcef13c",
   "metadata": {},
   "outputs": [
    {
     "data": {
      "text/html": [
       "<div>\n",
       "<style scoped>\n",
       "    .dataframe tbody tr th:only-of-type {\n",
       "        vertical-align: middle;\n",
       "    }\n",
       "\n",
       "    .dataframe tbody tr th {\n",
       "        vertical-align: top;\n",
       "    }\n",
       "\n",
       "    .dataframe thead th {\n",
       "        text-align: right;\n",
       "    }\n",
       "</style>\n",
       "<table border=\"1\" class=\"dataframe\">\n",
       "  <thead>\n",
       "    <tr style=\"text-align: right;\">\n",
       "      <th></th>\n",
       "      <th>volume_id</th>\n",
       "      <th>layer_id</th>\n",
       "      <th>module_id</th>\n",
       "      <th>cx</th>\n",
       "      <th>cy</th>\n",
       "      <th>cz</th>\n",
       "      <th>rot_xu</th>\n",
       "      <th>rot_xv</th>\n",
       "      <th>rot_xw</th>\n",
       "      <th>rot_yu</th>\n",
       "      <th>...</th>\n",
       "      <th>rot_yw</th>\n",
       "      <th>rot_zu</th>\n",
       "      <th>rot_zv</th>\n",
       "      <th>rot_zw</th>\n",
       "      <th>module_t</th>\n",
       "      <th>module_minhu</th>\n",
       "      <th>module_maxhu</th>\n",
       "      <th>module_hv</th>\n",
       "      <th>pitch_u</th>\n",
       "      <th>pitch_v</th>\n",
       "    </tr>\n",
       "  </thead>\n",
       "  <tbody>\n",
       "    <tr>\n",
       "      <th>0</th>\n",
       "      <td>7</td>\n",
       "      <td>2</td>\n",
       "      <td>1</td>\n",
       "      <td>-65.7965</td>\n",
       "      <td>-5.17830</td>\n",
       "      <td>-1502.5</td>\n",
       "      <td>0.078459</td>\n",
       "      <td>-0.996917</td>\n",
       "      <td>0.0</td>\n",
       "      <td>-0.996917</td>\n",
       "      <td>...</td>\n",
       "      <td>0.0</td>\n",
       "      <td>0</td>\n",
       "      <td>0</td>\n",
       "      <td>-1</td>\n",
       "      <td>0.15</td>\n",
       "      <td>8.4</td>\n",
       "      <td>8.4</td>\n",
       "      <td>36</td>\n",
       "      <td>0.05</td>\n",
       "      <td>0.05625</td>\n",
       "    </tr>\n",
       "    <tr>\n",
       "      <th>1</th>\n",
       "      <td>7</td>\n",
       "      <td>2</td>\n",
       "      <td>2</td>\n",
       "      <td>-139.8510</td>\n",
       "      <td>-6.46568</td>\n",
       "      <td>-1502.0</td>\n",
       "      <td>0.046184</td>\n",
       "      <td>-0.998933</td>\n",
       "      <td>0.0</td>\n",
       "      <td>-0.998933</td>\n",
       "      <td>...</td>\n",
       "      <td>0.0</td>\n",
       "      <td>0</td>\n",
       "      <td>0</td>\n",
       "      <td>-1</td>\n",
       "      <td>0.15</td>\n",
       "      <td>8.4</td>\n",
       "      <td>8.4</td>\n",
       "      <td>36</td>\n",
       "      <td>0.05</td>\n",
       "      <td>0.05625</td>\n",
       "    </tr>\n",
       "    <tr>\n",
       "      <th>2</th>\n",
       "      <td>7</td>\n",
       "      <td>2</td>\n",
       "      <td>3</td>\n",
       "      <td>-138.6570</td>\n",
       "      <td>-19.34190</td>\n",
       "      <td>-1498.0</td>\n",
       "      <td>0.138156</td>\n",
       "      <td>-0.990410</td>\n",
       "      <td>0.0</td>\n",
       "      <td>-0.990410</td>\n",
       "      <td>...</td>\n",
       "      <td>0.0</td>\n",
       "      <td>0</td>\n",
       "      <td>0</td>\n",
       "      <td>-1</td>\n",
       "      <td>0.15</td>\n",
       "      <td>8.4</td>\n",
       "      <td>8.4</td>\n",
       "      <td>36</td>\n",
       "      <td>0.05</td>\n",
       "      <td>0.05625</td>\n",
       "    </tr>\n",
       "    <tr>\n",
       "      <th>3</th>\n",
       "      <td>7</td>\n",
       "      <td>2</td>\n",
       "      <td>4</td>\n",
       "      <td>-64.1764</td>\n",
       "      <td>-15.40740</td>\n",
       "      <td>-1498.0</td>\n",
       "      <td>0.233445</td>\n",
       "      <td>-0.972370</td>\n",
       "      <td>0.0</td>\n",
       "      <td>-0.972370</td>\n",
       "      <td>...</td>\n",
       "      <td>0.0</td>\n",
       "      <td>0</td>\n",
       "      <td>0</td>\n",
       "      <td>-1</td>\n",
       "      <td>0.15</td>\n",
       "      <td>8.4</td>\n",
       "      <td>8.4</td>\n",
       "      <td>36</td>\n",
       "      <td>0.05</td>\n",
       "      <td>0.05625</td>\n",
       "    </tr>\n",
       "    <tr>\n",
       "      <th>4</th>\n",
       "      <td>7</td>\n",
       "      <td>2</td>\n",
       "      <td>5</td>\n",
       "      <td>-136.2810</td>\n",
       "      <td>-32.05310</td>\n",
       "      <td>-1502.0</td>\n",
       "      <td>0.228951</td>\n",
       "      <td>-0.973438</td>\n",
       "      <td>0.0</td>\n",
       "      <td>-0.973438</td>\n",
       "      <td>...</td>\n",
       "      <td>0.0</td>\n",
       "      <td>0</td>\n",
       "      <td>0</td>\n",
       "      <td>-1</td>\n",
       "      <td>0.15</td>\n",
       "      <td>8.4</td>\n",
       "      <td>8.4</td>\n",
       "      <td>36</td>\n",
       "      <td>0.05</td>\n",
       "      <td>0.05625</td>\n",
       "    </tr>\n",
       "    <tr>\n",
       "      <th>...</th>\n",
       "      <td>...</td>\n",
       "      <td>...</td>\n",
       "      <td>...</td>\n",
       "      <td>...</td>\n",
       "      <td>...</td>\n",
       "      <td>...</td>\n",
       "      <td>...</td>\n",
       "      <td>...</td>\n",
       "      <td>...</td>\n",
       "      <td>...</td>\n",
       "      <td>...</td>\n",
       "      <td>...</td>\n",
       "      <td>...</td>\n",
       "      <td>...</td>\n",
       "      <td>...</td>\n",
       "      <td>...</td>\n",
       "      <td>...</td>\n",
       "      <td>...</td>\n",
       "      <td>...</td>\n",
       "      <td>...</td>\n",
       "      <td>...</td>\n",
       "    </tr>\n",
       "    <tr>\n",
       "      <th>18723</th>\n",
       "      <td>18</td>\n",
       "      <td>12</td>\n",
       "      <td>94</td>\n",
       "      <td>-895.8950</td>\n",
       "      <td>291.09400</td>\n",
       "      <td>2952.5</td>\n",
       "      <td>0.309017</td>\n",
       "      <td>-0.951057</td>\n",
       "      <td>0.0</td>\n",
       "      <td>0.951057</td>\n",
       "      <td>...</td>\n",
       "      <td>0.0</td>\n",
       "      <td>0</td>\n",
       "      <td>0</td>\n",
       "      <td>1</td>\n",
       "      <td>0.35</td>\n",
       "      <td>66.0</td>\n",
       "      <td>72.0</td>\n",
       "      <td>78</td>\n",
       "      <td>0.12</td>\n",
       "      <td>10.40000</td>\n",
       "    </tr>\n",
       "    <tr>\n",
       "      <th>18724</th>\n",
       "      <td>18</td>\n",
       "      <td>12</td>\n",
       "      <td>95</td>\n",
       "      <td>-812.0900</td>\n",
       "      <td>161.53500</td>\n",
       "      <td>2947.5</td>\n",
       "      <td>0.195090</td>\n",
       "      <td>-0.980785</td>\n",
       "      <td>0.0</td>\n",
       "      <td>0.980785</td>\n",
       "      <td>...</td>\n",
       "      <td>0.0</td>\n",
       "      <td>0</td>\n",
       "      <td>0</td>\n",
       "      <td>1</td>\n",
       "      <td>0.35</td>\n",
       "      <td>54.0</td>\n",
       "      <td>64.2</td>\n",
       "      <td>78</td>\n",
       "      <td>0.12</td>\n",
       "      <td>10.40000</td>\n",
       "    </tr>\n",
       "    <tr>\n",
       "      <th>18725</th>\n",
       "      <td>18</td>\n",
       "      <td>12</td>\n",
       "      <td>96</td>\n",
       "      <td>-925.3150</td>\n",
       "      <td>176.51300</td>\n",
       "      <td>2955.5</td>\n",
       "      <td>0.187381</td>\n",
       "      <td>-0.982287</td>\n",
       "      <td>0.0</td>\n",
       "      <td>0.982287</td>\n",
       "      <td>...</td>\n",
       "      <td>0.0</td>\n",
       "      <td>0</td>\n",
       "      <td>0</td>\n",
       "      <td>1</td>\n",
       "      <td>0.35</td>\n",
       "      <td>66.0</td>\n",
       "      <td>72.0</td>\n",
       "      <td>78</td>\n",
       "      <td>0.12</td>\n",
       "      <td>10.40000</td>\n",
       "    </tr>\n",
       "    <tr>\n",
       "      <th>18726</th>\n",
       "      <td>18</td>\n",
       "      <td>12</td>\n",
       "      <td>97</td>\n",
       "      <td>-826.2270</td>\n",
       "      <td>54.15380</td>\n",
       "      <td>2944.5</td>\n",
       "      <td>0.065403</td>\n",
       "      <td>-0.997859</td>\n",
       "      <td>0.0</td>\n",
       "      <td>0.997859</td>\n",
       "      <td>...</td>\n",
       "      <td>0.0</td>\n",
       "      <td>0</td>\n",
       "      <td>0</td>\n",
       "      <td>1</td>\n",
       "      <td>0.35</td>\n",
       "      <td>54.0</td>\n",
       "      <td>64.2</td>\n",
       "      <td>78</td>\n",
       "      <td>0.12</td>\n",
       "      <td>10.40000</td>\n",
       "    </tr>\n",
       "    <tr>\n",
       "      <th>18727</th>\n",
       "      <td>18</td>\n",
       "      <td>12</td>\n",
       "      <td>98</td>\n",
       "      <td>-940.1410</td>\n",
       "      <td>59.14870</td>\n",
       "      <td>2952.5</td>\n",
       "      <td>0.062790</td>\n",
       "      <td>-0.998027</td>\n",
       "      <td>0.0</td>\n",
       "      <td>0.998027</td>\n",
       "      <td>...</td>\n",
       "      <td>0.0</td>\n",
       "      <td>0</td>\n",
       "      <td>0</td>\n",
       "      <td>1</td>\n",
       "      <td>0.35</td>\n",
       "      <td>66.0</td>\n",
       "      <td>72.0</td>\n",
       "      <td>78</td>\n",
       "      <td>0.12</td>\n",
       "      <td>10.40000</td>\n",
       "    </tr>\n",
       "  </tbody>\n",
       "</table>\n",
       "<p>18728 rows × 21 columns</p>\n",
       "</div>"
      ],
      "text/plain": [
       "       volume_id  layer_id  module_id        cx         cy      cz    rot_xu  \\\n",
       "0              7         2          1  -65.7965   -5.17830 -1502.5  0.078459   \n",
       "1              7         2          2 -139.8510   -6.46568 -1502.0  0.046184   \n",
       "2              7         2          3 -138.6570  -19.34190 -1498.0  0.138156   \n",
       "3              7         2          4  -64.1764  -15.40740 -1498.0  0.233445   \n",
       "4              7         2          5 -136.2810  -32.05310 -1502.0  0.228951   \n",
       "...          ...       ...        ...       ...        ...     ...       ...   \n",
       "18723         18        12         94 -895.8950  291.09400  2952.5  0.309017   \n",
       "18724         18        12         95 -812.0900  161.53500  2947.5  0.195090   \n",
       "18725         18        12         96 -925.3150  176.51300  2955.5  0.187381   \n",
       "18726         18        12         97 -826.2270   54.15380  2944.5  0.065403   \n",
       "18727         18        12         98 -940.1410   59.14870  2952.5  0.062790   \n",
       "\n",
       "         rot_xv  rot_xw    rot_yu  ...  rot_yw  rot_zu  rot_zv  rot_zw  \\\n",
       "0     -0.996917     0.0 -0.996917  ...     0.0       0       0      -1   \n",
       "1     -0.998933     0.0 -0.998933  ...     0.0       0       0      -1   \n",
       "2     -0.990410     0.0 -0.990410  ...     0.0       0       0      -1   \n",
       "3     -0.972370     0.0 -0.972370  ...     0.0       0       0      -1   \n",
       "4     -0.973438     0.0 -0.973438  ...     0.0       0       0      -1   \n",
       "...         ...     ...       ...  ...     ...     ...     ...     ...   \n",
       "18723 -0.951057     0.0  0.951057  ...     0.0       0       0       1   \n",
       "18724 -0.980785     0.0  0.980785  ...     0.0       0       0       1   \n",
       "18725 -0.982287     0.0  0.982287  ...     0.0       0       0       1   \n",
       "18726 -0.997859     0.0  0.997859  ...     0.0       0       0       1   \n",
       "18727 -0.998027     0.0  0.998027  ...     0.0       0       0       1   \n",
       "\n",
       "       module_t  module_minhu  module_maxhu  module_hv  pitch_u   pitch_v  \n",
       "0          0.15           8.4           8.4         36     0.05   0.05625  \n",
       "1          0.15           8.4           8.4         36     0.05   0.05625  \n",
       "2          0.15           8.4           8.4         36     0.05   0.05625  \n",
       "3          0.15           8.4           8.4         36     0.05   0.05625  \n",
       "4          0.15           8.4           8.4         36     0.05   0.05625  \n",
       "...         ...           ...           ...        ...      ...       ...  \n",
       "18723      0.35          66.0          72.0         78     0.12  10.40000  \n",
       "18724      0.35          54.0          64.2         78     0.12  10.40000  \n",
       "18725      0.35          66.0          72.0         78     0.12  10.40000  \n",
       "18726      0.35          54.0          64.2         78     0.12  10.40000  \n",
       "18727      0.35          66.0          72.0         78     0.12  10.40000  \n",
       "\n",
       "[18728 rows x 21 columns]"
      ]
     },
     "execution_count": 3,
     "metadata": {},
     "output_type": "execute_result"
    }
   ],
   "source": [
    "# detector information\n",
    "detectors = pd.read_csv(\"../TrackML-Data/detectors.csv\")\n",
    "detectors"
   ]
  },
  {
   "cell_type": "code",
   "execution_count": 3,
   "id": "2f9aae57",
   "metadata": {},
   "outputs": [
    {
     "name": "stdout",
     "output_type": "stream",
     "text": [
      "(120939,)\n"
     ]
    }
   ],
   "source": [
    "# add up channel count and value for each hit-id\n",
    "def cells_input_data(cells_given):\n",
    "    current_id = cells_given['hit_id'][0]\n",
    "    cells_count = 1\n",
    "    value_count = cells_given['value'][0]\n",
    "    cells_list = []\n",
    "    value_list = []\n",
    "\n",
    "    for row in range(1, len(cells_given['hit_id'])):\n",
    "        hit_id = cells_given['hit_id'][row]\n",
    "        hit_value = cells_given['value'][row]\n",
    "        if (hit_id != current_id):\n",
    "            cells_list.append(cells_count)\n",
    "            value_list.append(value_count)\n",
    "            current_id = hit_id\n",
    "            cells_count = 1\n",
    "            value_count = hit_value\n",
    "        else:\n",
    "            cells_count += 1\n",
    "            value_count += hit_value\n",
    "\n",
    "    cells_list.append(cells_count)\n",
    "    value_list.append(value_count)\n",
    "\n",
    "    cells_arr = np.array(cells_list)\n",
    "    value_arr = np.array(value_list)\n",
    "    return (cells_arr, value_arr)\n",
    "\n",
    "cells_arr_first, value_arr_first = cells_input_data(cells_first)\n",
    "print(cells_arr_first.shape)"
   ]
  },
  {
   "cell_type": "markdown",
   "id": "a86f27c3",
   "metadata": {},
   "source": [
    "Choice of inputs for each hit\n",
    "- x,y,z coordinates\n",
    "- sum of values from cells, count of number of cells\n",
    "- shortest distance of joining line between the hits to the origin"
   ]
  },
  {
   "cell_type": "code",
   "execution_count": 5,
   "id": "60d81020",
   "metadata": {},
   "outputs": [],
   "source": [
    "# construct NN input data and truth information for training/testing\n",
    "def X_y_train_construct(hit_pairs, hits, cells_arr, value_arr):\n",
    "    N_pairs = len(hit_pairs)\n",
    "    N_parameters_pair = 5*2 + 1\n",
    "    X_train = np.empty((N_pairs, N_parameters_pair))\n",
    "    y_train = np.empty(N_pairs, dtype=bool)\n",
    "\n",
    "    for pair in range(N_pairs):\n",
    "        hit1 = hit_pairs[pair][0]\n",
    "        hit2 = hit_pairs[pair][1]\n",
    "        y_train[pair] = hit_pairs[pair][2]\n",
    "        # x,y,z\n",
    "        X_train[pair][0] = hits['x'][hit1]/3000\n",
    "        X_train[pair][1] = hits['y'][hit1]/3000\n",
    "        X_train[pair][2] = hits['z'][hit1]/3000\n",
    "        # number of cells sum\n",
    "        X_train[pair][3] = cells_arr[hit1]/10\n",
    "        # sum of charge values\n",
    "        X_train[pair][4] = value_arr[hit1]\n",
    "        #same for hit2\n",
    "        X_train[pair][5] = hits['x'][hit2]/3000\n",
    "        X_train[pair][6] = hits['y'][hit2]/3000\n",
    "        X_train[pair][7] = hits['z'][hit2]/3000\n",
    "        X_train[pair][8] = cells_arr[hit2]/10\n",
    "        X_train[pair][9] = value_arr[hit2]\n",
    "        \n",
    "        # joining line distance from origin\n",
    "        hit1_point = np.array([hits['x'][hit1],hits['y'][hit1],hits['z'][hit1]])\n",
    "        hit2_point = np.array([hits['x'][hit2],hits['y'][hit2],hits['z'][hit2]])\n",
    "        line_dir_vector = hit1_point - hit2_point\n",
    "        cross_dir_point = np.cross(hit1_point,line_dir_vector)\n",
    "        shortest_distance_origin = np.sqrt(cross_dir_point.dot(cross_dir_point))/np.sqrt(line_dir_vector.dot(line_dir_vector))\n",
    "        \n",
    "        X_train[pair][10] = shortest_distance_origin/500\n",
    "\n",
    "    return (X_train, y_train)"
   ]
  },
  {
   "cell_type": "markdown",
   "id": "3f5909f5",
   "metadata": {},
   "source": [
    "### Filter dataset with shortest distance from origin upper bound (not used in the end)"
   ]
  },
  {
   "cell_type": "code",
   "execution_count": 80,
   "id": "f47035b8",
   "metadata": {},
   "outputs": [
    {
     "name": "stdout",
     "output_type": "stream",
     "text": [
      "0\n",
      "100\n",
      "200\n",
      "300\n",
      "400\n",
      "500\n",
      "600\n",
      "700\n",
      "800\n",
      "900\n",
      "1000\n",
      "1100\n",
      "1200\n",
      "1300\n",
      "1400\n",
      "1500\n",
      "1600\n",
      "1700\n",
      "1800\n",
      "1900\n",
      "2000\n",
      "2100\n",
      "2200\n",
      "2300\n",
      "2400\n",
      "2500\n",
      "2600\n",
      "2700\n",
      "2800\n",
      "2900\n",
      "3000\n",
      "3100\n",
      "3200\n",
      "3300\n",
      "3400\n",
      "3500\n",
      "3600\n",
      "3700\n",
      "3800\n",
      "3900\n",
      "4000\n",
      "4100\n",
      "4200\n",
      "4300\n",
      "4400\n",
      "4500\n",
      "4600\n",
      "4700\n",
      "4800\n",
      "4900\n",
      "12497500\n",
      "66839\n"
     ]
    }
   ],
   "source": [
    "# construct filtered dataset\n",
    "N_hits = 5000\n",
    "N_pairs = ((N_hits)**2-N_hits)/2 # unique pairs\n",
    "hit1_pairs = np.empty(int(N_pairs), dtype=np.uintc)\n",
    "hit2_pairs = np.empty(int(N_pairs), dtype=np.uintc)\n",
    "pair_counter = 0\n",
    "\n",
    "# iterate over all possible hit pairs\n",
    "for hit1 in range(N_hits):\n",
    "    for hit2 in range(hit1+1,N_hits):\n",
    "        # fit line to pair and filter by distance from origin\n",
    "        hit1_point = np.array([hits['x'][hit1],hits['y'][hit1],hits['z'][hit1]])\n",
    "        hit2_point = np.array([hits['x'][hit2],hits['y'][hit2],hits['z'][hit2]])\n",
    "        line_dir_vector = hit1_point - hit2_point\n",
    "        cross_dir_point = np.cross(hit1_point,line_dir_vector)\n",
    "        shortest_distance_origin = np.sqrt(cross_dir_point.dot(cross_dir_point))/np.sqrt(line_dir_vector.dot(line_dir_vector))\n",
    "        \n",
    "        # add pair to dataset if in radius of 60mm/6cm\n",
    "        if (shortest_distance_origin < 50):\n",
    "            hit1_pairs[pair_counter] = hit1\n",
    "            hit2_pairs[pair_counter] = hit2\n",
    "            pair_counter += 1\n",
    "    if (hit1%100==0):\n",
    "        print(hit1)\n",
    "        \n",
    "print(len(hit1_pairs))\n",
    "print(pair_counter)"
   ]
  },
  {
   "cell_type": "code",
   "execution_count": 81,
   "id": "aba85422",
   "metadata": {},
   "outputs": [
    {
     "name": "stdout",
     "output_type": "stream",
     "text": [
      "7814\n"
     ]
    }
   ],
   "source": [
    "# set-up truth info and check pair sample\n",
    "hit_pairs = np.empty(int(pair_counter), dtype=object)\n",
    "truth_pairs = np.empty(int(pair_counter), dtype=bool) # 1 for same track, 0 for not\n",
    "count_true = 0\n",
    "for pair in range(pair_counter):\n",
    "    hit_1 = hit1_pairs[pair]\n",
    "    hit_2 = hit2_pairs[pair]\n",
    "    hit_pairs[pair] = (hit_1,hit_2)\n",
    "    hit1_particle_id = truth['particle_id'][hit_1]\n",
    "    hit2_particle_id = truth['particle_id'][hit_2]\n",
    "    if (hit1_particle_id == hit2_particle_id):\n",
    "        truth_pairs[pair] = 1\n",
    "        count_true += 1\n",
    "    else:\n",
    "        truth_pairs[pair] = 0\n",
    "\n",
    "np.save(\"hits_pairs\", hit_pairs)\n",
    "np.save(\"truth_pairs\", truth_pairs)\n",
    "print(count_true)"
   ]
  },
  {
   "cell_type": "code",
   "execution_count": 9,
   "id": "35b7ad37",
   "metadata": {},
   "outputs": [
    {
     "name": "stdout",
     "output_type": "stream",
     "text": [
      "66839\n"
     ]
    }
   ],
   "source": [
    "# get filtered hit pairs from saved arrays\n",
    "hit_pairs = np.load(\"hits_pairs.npy\", allow_pickle=True)\n",
    "truth_pairs = np.load(\"truth_pairs.npy\")\n",
    "print(len(hit_pairs))"
   ]
  },
  {
   "cell_type": "code",
   "execution_count": 10,
   "id": "cf947333",
   "metadata": {},
   "outputs": [
    {
     "name": "stdout",
     "output_type": "stream",
     "text": [
      "0 1451\n"
     ]
    },
    {
     "ename": "NameError",
     "evalue": "name 'hits' is not defined",
     "output_type": "error",
     "traceback": [
      "\u001b[1;31m---------------------------------------------------------------------------\u001b[0m",
      "\u001b[1;31mNameError\u001b[0m                                 Traceback (most recent call last)",
      "Input \u001b[1;32mIn [10]\u001b[0m, in \u001b[0;36m<cell line: 5>\u001b[1;34m()\u001b[0m\n\u001b[0;32m      3\u001b[0m hit2 \u001b[38;5;241m=\u001b[39m hit_pairs[\u001b[38;5;241m0\u001b[39m][\u001b[38;5;241m1\u001b[39m]\n\u001b[0;32m      4\u001b[0m \u001b[38;5;28mprint\u001b[39m(hit1,hit2)\n\u001b[1;32m----> 5\u001b[0m \u001b[38;5;28mprint\u001b[39m(\u001b[38;5;124m\"\u001b[39m\u001b[38;5;124mHit 1 x/3000: \u001b[39m\u001b[38;5;124m\"\u001b[39m, \u001b[43mhits\u001b[49m[\u001b[38;5;124m'\u001b[39m\u001b[38;5;124mx\u001b[39m\u001b[38;5;124m'\u001b[39m][hit1]\u001b[38;5;241m/\u001b[39m\u001b[38;5;241m3000\u001b[39m)\n\u001b[0;32m      6\u001b[0m \u001b[38;5;28mprint\u001b[39m(\u001b[38;5;124m\"\u001b[39m\u001b[38;5;124mHit 1 y/3000: \u001b[39m\u001b[38;5;124m\"\u001b[39m, hits[\u001b[38;5;124m'\u001b[39m\u001b[38;5;124my\u001b[39m\u001b[38;5;124m'\u001b[39m][hit1]\u001b[38;5;241m/\u001b[39m\u001b[38;5;241m3000\u001b[39m)\n\u001b[0;32m      7\u001b[0m \u001b[38;5;28mprint\u001b[39m(\u001b[38;5;124m\"\u001b[39m\u001b[38;5;124mHit 1 y/3000: \u001b[39m\u001b[38;5;124m\"\u001b[39m, hits[\u001b[38;5;124m'\u001b[39m\u001b[38;5;124mz\u001b[39m\u001b[38;5;124m'\u001b[39m][hit1]\u001b[38;5;241m/\u001b[39m\u001b[38;5;241m3000\u001b[39m)\n",
      "\u001b[1;31mNameError\u001b[0m: name 'hits' is not defined"
     ]
    }
   ],
   "source": [
    "# input paramters for a single pair\n",
    "hit1 = hit_pairs[0][0]\n",
    "hit2 = hit_pairs[0][1]\n",
    "print(hit1,hit2)\n",
    "print(\"Hit 1 x/3000: \", hits_first['x'][hit1]/3000)\n",
    "print(\"Hit 1 y/3000: \", hits_first['y'][hit1]/3000)\n",
    "print(\"Hit 1 y/3000: \", hits_first['z'][hit1]/3000)\n",
    "print(\"Hit 1 cell count/10: \", cells_arr[hit1]/10)\n",
    "print(\"Hit 1 value sum: \", value_arr[hit1])\n",
    "print(\"Hit 2 x/3000: \", hits_first['x'][hit2]/3000)\n",
    "print(\"Hit 2 y/3000: \", hits_first['y'][hit2]/3000)\n",
    "print(\"Hit 2 y/3000: \", hits_first['z'][hit2]/3000)\n",
    "print(\"Hit 2 cell count/10: \", cells_arr[hit2]/10)\n",
    "print(\"Hit 2 value sum: \", value_arr[hit2])"
   ]
  },
  {
   "cell_type": "code",
   "execution_count": 22,
   "id": "8fa28657",
   "metadata": {},
   "outputs": [],
   "source": [
    "# construct input for NN\n",
    "N_pairs = len(hit_pairs)\n",
    "N_parameters_pair = 5*2\n",
    "X_train = np.empty((N_pairs, N_parameters_pair))\n",
    "\n",
    "for pair in range(N_pairs):\n",
    "    hit1 = hit_pairs[pair][0]\n",
    "    hit2 = hit_pairs[pair][1]\n",
    "    X_train[pair][0] = hits['x'][hit1]/3000\n",
    "    X_train[pair][1] = hits['y'][hit1]/3000\n",
    "    X_train[pair][2] = hits['z'][hit1]/3000\n",
    "    X_train[pair][3] = cells_arr[hit1]/10\n",
    "    X_train[pair][4] = value_arr[hit1]\n",
    "    X_train[pair][5] = hits['x'][hit2]/3000\n",
    "    X_train[pair][6] = hits['y'][hit2]/3000\n",
    "    X_train[pair][7] = hits['z'][hit2]/3000\n",
    "    X_train[pair][8] = cells_arr[hit2]/10\n",
    "    X_train[pair][9] = value_arr[hit2]\n",
    "    \n",
    "print(X_train.shape)\n",
    "print(truth_pairs.shape)"
   ]
  },
  {
   "cell_type": "code",
   "execution_count": 77,
   "id": "a8cea3b3",
   "metadata": {},
   "outputs": [
    {
     "name": "stdout",
     "output_type": "stream",
     "text": [
      "Epoch 1/10\n",
      "1808/1808 [==============================] - 4s 2ms/step - loss: 0.2642\n",
      "Epoch 2/10\n",
      "1808/1808 [==============================] - 3s 2ms/step - loss: 0.2480\n",
      "Epoch 3/10\n",
      "1808/1808 [==============================] - 3s 2ms/step - loss: 0.2385\n",
      "Epoch 4/10\n",
      "1808/1808 [==============================] - 3s 2ms/step - loss: 0.2357\n",
      "Epoch 5/10\n",
      "1808/1808 [==============================] - 3s 2ms/step - loss: 0.2356\n",
      "Epoch 6/10\n",
      "1808/1808 [==============================] - 3s 2ms/step - loss: 0.2375\n",
      "Epoch 7/10\n",
      "1808/1808 [==============================] - 3s 2ms/step - loss: 0.2330\n",
      "Epoch 8/10\n",
      "1808/1808 [==============================] - 3s 2ms/step - loss: 0.2361\n",
      "Epoch 9/10\n",
      "1808/1808 [==============================] - 3s 2ms/step - loss: 0.2316\n",
      "Epoch 10/10\n",
      "1808/1808 [==============================] - 3s 2ms/step - loss: 0.2354\n"
     ]
    },
    {
     "data": {
      "text/plain": [
       "<keras.callbacks.History at 0x1e322696a10>"
      ]
     },
     "execution_count": 77,
     "metadata": {},
     "output_type": "execute_result"
    }
   ],
   "source": [
    "# construct NN architecture and train\n",
    "model = Sequential()\n",
    "model.add(Dense(500, input_dim=10, activation='relu', kernel_regularizer=None))\n",
    "model.add(Dense(300, activation='relu', kernel_regularizer=None))\n",
    "model.add(Dense(300, activation='relu', kernel_regularizer=None))\n",
    "model.add(Dense(100, activation='relu', kernel_regularizer=None))\n",
    "model.add(Dense(1, activation='sigmoid'))\n",
    "model.compile(loss='binary_crossentropy', optimizer='adam')   \n",
    "model.fit(X_train, truth_pairs, epochs=10, batch_size=50, verbose=1)"
   ]
  },
  {
   "cell_type": "code",
   "execution_count": 78,
   "id": "832c7e2d",
   "metadata": {},
   "outputs": [
    {
     "name": "stdout",
     "output_type": "stream",
     "text": [
      "2825/2825 [==============================] - 3s 876us/step\n"
     ]
    }
   ],
   "source": [
    "pred_train = model.predict(X_train)"
   ]
  },
  {
   "cell_type": "code",
   "execution_count": 79,
   "id": "c2606a0f",
   "metadata": {},
   "outputs": [
    {
     "name": "stdout",
     "output_type": "stream",
     "text": [
      "[[82503    16]\n",
      " [ 6319  1559]]\n",
      "0.9299202407159529\n"
     ]
    }
   ],
   "source": [
    "pred_train_confusion = (pred_train > 0.65)\n",
    "truth_pairs_confusion = np.reshape(truth_pairs, (len(truth_pairs),1))\n",
    "\n",
    "confusion_train = metrics.confusion_matrix(truth_pairs, pred_train_confusion)\n",
    "accuracy = metrics.accuracy_score(truth_pairs, pred_train_confusion)\n",
    "\n",
    "print(confusion_train)\n",
    "print(accuracy)"
   ]
  },
  {
   "cell_type": "markdown",
   "id": "1fa63036",
   "metadata": {},
   "source": [
    "### Brute force training set with truth information"
   ]
  },
  {
   "cell_type": "code",
   "execution_count": 11,
   "id": "9d5f700e",
   "metadata": {},
   "outputs": [],
   "source": [
    "# brute force dataset for 50/50 of 0 and 1\n",
    "def brute_dataset(N_brute, hits, truth):\n",
    "    N_hits = len(hits['hit_id'])\n",
    "    hit_pairs_match = np.empty(N_brute, dtype=object)\n",
    "    hit_pairs_miss = np.empty(N_brute, dtype=object)\n",
    "    match_pair_counter = 0\n",
    "    miss_pair_counter = 0\n",
    "    \n",
    "    for hit1 in range(N_hits):\n",
    "        for hit2 in range(hit1+1,N_hits):\n",
    "            if (match_pair_counter == N_brute) and (miss_pair_counter == N_brute):\n",
    "                return np.append(hit_pairs_match, hit_pairs_miss)\n",
    "            \n",
    "            hit1_particle_id = truth['particle_id'][hit1]\n",
    "            hit2_particle_id = truth['particle_id'][hit2]\n",
    "            \n",
    "            if (hit1_particle_id == hit2_particle_id):\n",
    "                if (match_pair_counter < N_brute):\n",
    "                    hit_pairs_match[match_pair_counter] = (hit1,hit2,1)\n",
    "                    match_pair_counter += 1\n",
    "            else:\n",
    "                if (miss_pair_counter < N_brute):\n",
    "                    hit_pairs_miss[miss_pair_counter] = (hit1,hit2,0)\n",
    "                    miss_pair_counter += 1"
   ]
  },
  {
   "cell_type": "code",
   "execution_count": 6,
   "id": "398f8d98",
   "metadata": {},
   "outputs": [
    {
     "name": "stdout",
     "output_type": "stream",
     "text": [
      "(400000,)\n"
     ]
    }
   ],
   "source": [
    "hit_pairs_brute = brute_dataset(200000, hits, truth)\n",
    "np.random.shuffle(hit_pairs_brute)\n",
    "print(hit_pairs_brute.shape)"
   ]
  },
  {
   "cell_type": "code",
   "execution_count": 7,
   "id": "33000d40",
   "metadata": {},
   "outputs": [
    {
     "name": "stdout",
     "output_type": "stream",
     "text": [
      "(400000, 11)\n",
      "(400000,)\n"
     ]
    }
   ],
   "source": [
    "X_train_brute, y_train_brute = X_y_train_construct(hit_pairs_brute, hits, cells_arr, value_arr)\n",
    "print(X_train_brute.shape)\n",
    "print(y_train_brute.shape)"
   ]
  },
  {
   "cell_type": "code",
   "execution_count": 8,
   "id": "a63d1afe",
   "metadata": {},
   "outputs": [
    {
     "name": "stdout",
     "output_type": "stream",
     "text": [
      "Epoch 1/8\n",
      "4000/4000 [==============================] - 27s 7ms/step - loss: 0.1673\n",
      "Epoch 2/8\n",
      "4000/4000 [==============================] - 26s 6ms/step - loss: 0.1311\n",
      "Epoch 3/8\n",
      "4000/4000 [==============================] - 26s 6ms/step - loss: 0.1107\n",
      "Epoch 4/8\n",
      "4000/4000 [==============================] - 26s 6ms/step - loss: 0.1089\n",
      "Epoch 5/8\n",
      "4000/4000 [==============================] - 25s 6ms/step - loss: 0.1028\n",
      "Epoch 6/8\n",
      "4000/4000 [==============================] - 25s 6ms/step - loss: 0.1027\n",
      "Epoch 7/8\n",
      "4000/4000 [==============================] - 25s 6ms/step - loss: 0.0991\n",
      "Epoch 8/8\n",
      "4000/4000 [==============================] - 26s 6ms/step - loss: 0.0978\n"
     ]
    },
    {
     "data": {
      "text/plain": [
       "<keras.callbacks.History at 0x1e363efe3b0>"
      ]
     },
     "execution_count": 8,
     "metadata": {},
     "output_type": "execute_result"
    }
   ],
   "source": [
    "# construct NN architecture and train\n",
    "model = Sequential()\n",
    "model.add(Dense(1000, input_dim=11, activation='relu', kernel_regularizer=None))\n",
    "model.add(Dense(500, activation='relu', kernel_regularizer=None))\n",
    "model.add(Dense(500, activation='relu', kernel_regularizer=None))\n",
    "model.add(Dense(500, activation='relu', kernel_regularizer=None))\n",
    "model.add(Dense(250, activation='relu', kernel_regularizer=None))\n",
    "model.add(Dense(1, activation='sigmoid'))\n",
    "model.compile(loss='binary_crossentropy', optimizer='adam')   \n",
    "model.fit(X_train_brute, y_train_brute, epochs=8, batch_size=100, verbose=1)"
   ]
  },
  {
   "cell_type": "code",
   "execution_count": 9,
   "id": "11ae4bf0",
   "metadata": {},
   "outputs": [
    {
     "name": "stdout",
     "output_type": "stream",
     "text": [
      "12500/12500 [==============================] - 20s 2ms/step\n"
     ]
    }
   ],
   "source": [
    "pred_train_brute = model.predict(X_train_brute)"
   ]
  },
  {
   "cell_type": "code",
   "execution_count": 12,
   "id": "2ec39a45",
   "metadata": {},
   "outputs": [
    {
     "name": "stdout",
     "output_type": "stream",
     "text": [
      "[[199940     60]\n",
      " [ 17963 182037]]\n",
      "0.9549425\n"
     ]
    }
   ],
   "source": [
    "pred_train_confusion_brute = (pred_train_brute > 0.7)\n",
    "\n",
    "confusion_train = metrics.confusion_matrix(y_train_brute, pred_train_confusion_brute)\n",
    "accuracy = metrics.accuracy_score(y_train_brute, pred_train_confusion_brute)\n",
    "\n",
    "print(confusion_train)\n",
    "print(accuracy)"
   ]
  },
  {
   "cell_type": "markdown",
   "id": "666af02d",
   "metadata": {},
   "source": [
    "### Train NN with hit pairs mixed from multiple events (final used method)"
   ]
  },
  {
   "cell_type": "code",
   "execution_count": 12,
   "id": "badcf3ec",
   "metadata": {},
   "outputs": [],
   "source": [
    "# Load 10 000 hit pairs of first 20 events as train data\n",
    "def multiple_events_brute(N_events, N_hits_event, start_event):\n",
    "    for event in range(N_events):\n",
    "        event_id = 1000 + start_event + event\n",
    "        # load event\n",
    "        hits_event, cells_event, particles_even, truth_event = load_event(f'../TrackML-Data/train_100_events/event00000{event_id}')\n",
    "        # hit pairs for event\n",
    "        hit_pairs_event = brute_dataset(N_hits_event, hits_event, truth_event)\n",
    "        np.random.shuffle(hit_pairs_event)\n",
    "        # cells input for event\n",
    "        cells_arr_event, value_arr_event = cells_input_data(cells_event)\n",
    "        # train data for event\n",
    "        X_train_event, y_train_event = X_y_train_construct(hit_pairs_event, hits_event, cells_arr_event, value_arr_event)\n",
    "        # append to full train dataset\n",
    "        if (event == 0):\n",
    "            X_train_mult_events = X_train_event\n",
    "            y_train_mult_events = y_train_event\n",
    "        else:\n",
    "            X_train_mult_events = np.append(X_train_mult_events, X_train_event, axis=0)\n",
    "            y_train_mult_events = np.append(y_train_mult_events, y_train_event)\n",
    "\n",
    "    print(X_train_mult_events.shape)\n",
    "    print(y_train_mult_events.shape)\n",
    "    \n",
    "    return (X_train_mult_events, y_train_mult_events)\n",
    "\n",
    "# np.save(\"X_train_mult_events\", X_train_mult_events)\n",
    "# np.save(\"y_train_mult_events\", y_train_mult_events)"
   ]
  },
  {
   "cell_type": "code",
   "execution_count": 77,
   "id": "9d97087b",
   "metadata": {},
   "outputs": [
    {
     "name": "stdout",
     "output_type": "stream",
     "text": [
      "(800000, 11)\n",
      "(800000,)\n"
     ]
    }
   ],
   "source": [
    "N_hits_train = 20000\n",
    "X_train_mult_events, y_train_mult_events = multiple_events_brute(20,N_hits_train,0)"
   ]
  },
  {
   "cell_type": "code",
   "execution_count": 13,
   "id": "6997075e",
   "metadata": {},
   "outputs": [
    {
     "name": "stdout",
     "output_type": "stream",
     "text": [
      "(400000, 11)\n",
      "(400000,)\n"
     ]
    }
   ],
   "source": [
    "# load saved data\n",
    "X_train_mult_events = np.load(\"X_train_mult_events.npy\")\n",
    "y_train_mult_events = np.load(\"y_train_mult_events.npy\")\n",
    "\n",
    "print(X_train_mult_events.shape)\n",
    "print(y_train_mult_events.shape)"
   ]
  },
  {
   "cell_type": "code",
   "execution_count": 78,
   "id": "d89d1d6b",
   "metadata": {},
   "outputs": [
    {
     "name": "stdout",
     "output_type": "stream",
     "text": [
      "Epoch 1/3\n",
      "1520/1520 [==============================] - 79s 52ms/step - loss: 0.1219 - val_loss: 0.1061\n",
      "Epoch 2/3\n",
      "1520/1520 [==============================] - 78s 51ms/step - loss: 0.0875 - val_loss: 0.0882\n",
      "Epoch 3/3\n",
      "1520/1520 [==============================] - 79s 52ms/step - loss: 0.0622 - val_loss: 0.1113\n"
     ]
    },
    {
     "data": {
      "text/plain": [
       "<keras.callbacks.History at 0x2692ed874f0>"
      ]
     },
     "execution_count": 78,
     "metadata": {},
     "output_type": "execute_result"
    }
   ],
   "source": [
    "# train model from mixed events\n",
    "model_mult = Sequential()\n",
    "model_mult.add(Dense(2000, input_dim=11, activation='selu'))\n",
    "model_mult.add(Dense(1000, activation='selu'))\n",
    "model_mult.add(Dense(1000, activation='selu'))\n",
    "model_mult.add(Dense(1000, activation='selu'))\n",
    "model_mult.add(Dense(500, activation='selu'))\n",
    "model_mult.add(Dense(1, activation='sigmoid'))\n",
    "model_mult.compile(loss='binary_crossentropy', optimizer='adam')\n",
    "model_mult.fit(X_train_mult_events, y_train_mult_events, epochs=3, batch_size=500, verbose=1, validation_split=0.05, shuffle=True)"
   ]
  },
  {
   "cell_type": "code",
   "execution_count": 79,
   "id": "612b9ac5",
   "metadata": {},
   "outputs": [
    {
     "name": "stdout",
     "output_type": "stream",
     "text": [
      "25000/25000 [==============================] - 89s 4ms/step\n"
     ]
    }
   ],
   "source": [
    "pred_train_mult_events = model_mult.predict(X_train_mult_events)"
   ]
  },
  {
   "cell_type": "code",
   "execution_count": 80,
   "id": "652d5f83",
   "metadata": {},
   "outputs": [
    {
     "data": {
      "image/png": "[encoded data removed]",
      "text/plain": [
       "<Figure size 432x288 with 1 Axes>"
      ]
     },
     "metadata": {
      "needs_background": "light"
     },
     "output_type": "display_data"
    }
   ],
   "source": [
    "# plot distribution of training predictions\n",
    "N_pred_train = len(y_train_mult_events)\n",
    "pred_true_train = np.empty(int(N_pred_train/2), dtype=float)\n",
    "pred_false_train = np.empty(int(N_pred_train/2), dtype=float)\n",
    "true_counter = 0\n",
    "false_counter = 0\n",
    "\n",
    "for pred in range(N_pred_train):\n",
    "    if (y_train_mult_events[pred] == True):\n",
    "        pred_true_train[true_counter] = pred_train_mult_events[pred]\n",
    "        true_counter += 1\n",
    "    else:\n",
    "        pred_false_train[false_counter] = pred_train_mult_events[pred]\n",
    "        false_counter += 1\n",
    "        \n",
    "\n",
    "plt.hist(pred_true_train, bins=100, density=True, label=\"True hit pairs\")\n",
    "plt.hist(pred_false_train, bins=100, density=True, label=\"False hit pairs\")\n",
    "plt.xlabel(\"NN output prediction probability\")\n",
    "plt.title(\"Training data model predictions\")\n",
    "plt.legend()\n",
    "plt.show()"
   ]
  },
  {
   "cell_type": "code",
   "execution_count": 81,
   "id": "2f75bebd",
   "metadata": {},
   "outputs": [
    {
     "name": "stdout",
     "output_type": "stream",
     "text": [
      "[[398683   1317]\n",
      " [  9298 390702]]\n",
      "0.98673125\n"
     ]
    }
   ],
   "source": [
    "pred_train_confusion_events = (pred_train_mult_events > 0.5)\n",
    "\n",
    "confusion_train = metrics.confusion_matrix(y_train_mult_events, pred_train_confusion_events)\n",
    "accuracy_train = metrics.accuracy_score(y_train_mult_events, pred_train_confusion_events)\n",
    "\n",
    "print(confusion_train)\n",
    "print(accuracy_train)"
   ]
  },
  {
   "cell_type": "code",
   "execution_count": 99,
   "id": "1f0da794",
   "metadata": {},
   "outputs": [
    {
     "name": "stdout",
     "output_type": "stream",
     "text": [
      "INFO:tensorflow:Assets written to: model_mult_20_20000\\assets\n"
     ]
    }
   ],
   "source": [
    "# save the model if needed \n",
    "model_mult.save(\"model_mult_20_20000\")"
   ]
  },
  {
   "cell_type": "markdown",
   "id": "7b067677",
   "metadata": {},
   "source": [
    "### Test model with data from multiple other events"
   ]
  },
  {
   "cell_type": "code",
   "execution_count": 49,
   "id": "3df9c92b",
   "metadata": {},
   "outputs": [],
   "source": [
    "# open saved model if needed\n",
    "model_mult_saved = keras.models.load_model(\"model_mult_20_20000\")"
   ]
  },
  {
   "cell_type": "code",
   "execution_count": 28,
   "id": "946ea9cb",
   "metadata": {},
   "outputs": [
    {
     "name": "stdout",
     "output_type": "stream",
     "text": [
      "(117434,)\n"
     ]
    }
   ],
   "source": [
    "# first test with one event\n",
    "hits_test, cells_test, particles_test, truth_test = load_event('../TrackML-Data/train_100_events/event000001099')\n",
    "\n",
    "cells_arr_test, value_arr_test = cells_input_data(cells_test)\n",
    "print(cells_arr_test.shape)"
   ]
  },
  {
   "cell_type": "code",
   "execution_count": 29,
   "id": "55a1e264",
   "metadata": {},
   "outputs": [
    {
     "name": "stdout",
     "output_type": "stream",
     "text": [
      "(40000,)\n"
     ]
    }
   ],
   "source": [
    "hit_pairs_test = brute_dataset(20000, hits_test, truth_test)\n",
    "np.random.shuffle(hit_pairs_test)\n",
    "print(hit_pairs_test.shape)"
   ]
  },
  {
   "cell_type": "code",
   "execution_count": 51,
   "id": "ba0d4c0d",
   "metadata": {},
   "outputs": [
    {
     "name": "stdout",
     "output_type": "stream",
     "text": [
      "(40000, 11)\n",
      "(40000,)\n"
     ]
    }
   ],
   "source": [
    "X_test_single, y_test_single = X_y_train_construct(hit_pairs_test, hits_test, cells_arr_test, value_arr_test)\n",
    "print(X_test_single.shape)\n",
    "print(y_test_single.shape)"
   ]
  },
  {
   "cell_type": "code",
   "execution_count": 88,
   "id": "7cecdcb3",
   "metadata": {},
   "outputs": [
    {
     "name": "stdout",
     "output_type": "stream",
     "text": [
      "1250/1250 [==============================] - 4s 4ms/step\n"
     ]
    }
   ],
   "source": [
    "pred_test_single = model_mult.predict(X_test_single)\n",
    "#pred_test_single = model_mult_saved.predict(X_test_single)"
   ]
  },
  {
   "cell_type": "code",
   "execution_count": 89,
   "id": "bc45b4b4",
   "metadata": {},
   "outputs": [
    {
     "data": {
      "image/png": "[encoded data removed]",
      "text/plain": [
       "<Figure size 432x288 with 1 Axes>"
      ]
     },
     "metadata": {
      "needs_background": "light"
     },
     "output_type": "display_data"
    }
   ],
   "source": [
    "# plot distribution of one event test predictions\n",
    "N_pred_test = len(y_test_single)\n",
    "pred_true_test_single = np.empty(int(N_pred_test/2), dtype=float)\n",
    "pred_false_test_single = np.empty(int(N_pred_test/2), dtype=float)\n",
    "true_counter = 0\n",
    "false_counter = 0\n",
    "\n",
    "for pred in range(N_pred_test):\n",
    "    if (y_test_single[pred] == True):\n",
    "        pred_true_test_single[true_counter] = pred_test_single[pred]\n",
    "        true_counter += 1\n",
    "    else:\n",
    "        pred_false_test_single[false_counter] = pred_test_single[pred]\n",
    "        false_counter += 1\n",
    "        \n",
    "\n",
    "plt.hist(pred_true_test_single, bins=100, density=True, label=\"True hit pairs\")\n",
    "plt.hist(pred_false_test_single, bins=100, density=True, label=\"False hit pairs\")\n",
    "plt.xlabel(\"NN output prediction probability\")\n",
    "plt.title(\"Single event test data model predictions\")\n",
    "plt.legend()\n",
    "plt.show()"
   ]
  },
  {
   "cell_type": "code",
   "execution_count": 90,
   "id": "6ddcfc7e",
   "metadata": {},
   "outputs": [
    {
     "name": "stdout",
     "output_type": "stream",
     "text": [
      "[[19950    50]\n",
      " [  289 19711]]\n",
      "0.991525\n"
     ]
    }
   ],
   "source": [
    "pred_test_confusion = (pred_test_single > 0.5)\n",
    "\n",
    "confusion_test = metrics.confusion_matrix(y_test_single, pred_test_confusion)\n",
    "accuracy_test = metrics.accuracy_score(y_test_single, pred_test_confusion)\n",
    "\n",
    "print(confusion_test)\n",
    "print(accuracy_test)"
   ]
  },
  {
   "cell_type": "code",
   "execution_count": 100,
   "id": "16d954dc",
   "metadata": {},
   "outputs": [
    {
     "name": "stdout",
     "output_type": "stream",
     "text": [
      "(60000,)\n"
     ]
    }
   ],
   "source": [
    "# same event with more pairs\n",
    "hit_pairs_test = brute_dataset(30000, hits_test, truth_test)\n",
    "np.random.shuffle(hit_pairs_test)\n",
    "print(hit_pairs_test.shape)"
   ]
  },
  {
   "cell_type": "code",
   "execution_count": 101,
   "id": "6cb40620",
   "metadata": {},
   "outputs": [
    {
     "name": "stdout",
     "output_type": "stream",
     "text": [
      "(60000, 11)\n",
      "(60000,)\n"
     ]
    }
   ],
   "source": [
    "X_test_single, y_test_single = X_y_train_construct(hit_pairs_test, hits_test, cells_arr_test, value_arr_test)\n",
    "print(X_test_single.shape)\n",
    "print(y_test_single.shape)"
   ]
  },
  {
   "cell_type": "code",
   "execution_count": 102,
   "id": "a1ecf5cc",
   "metadata": {},
   "outputs": [
    {
     "name": "stdout",
     "output_type": "stream",
     "text": [
      "1875/1875 [==============================] - 7s 4ms/step\n"
     ]
    }
   ],
   "source": [
    "pred_test_single = model_mult.predict(X_test_single)"
   ]
  },
  {
   "cell_type": "code",
   "execution_count": 103,
   "id": "3e649499",
   "metadata": {},
   "outputs": [
    {
     "data": {
      "image/png": "[encoded data removed]",
      "text/plain": [
       "<Figure size 432x288 with 1 Axes>"
      ]
     },
     "metadata": {
      "needs_background": "light"
     },
     "output_type": "display_data"
    }
   ],
   "source": [
    "# plot distribution of one event test predictions\n",
    "N_pred_test = len(y_test_single)\n",
    "pred_true_test_single = np.empty(int(N_pred_test/2), dtype=float)\n",
    "pred_false_test_single = np.empty(int(N_pred_test/2), dtype=float)\n",
    "true_counter = 0\n",
    "false_counter = 0\n",
    "\n",
    "for pred in range(N_pred_test):\n",
    "    if (y_test_single[pred] == True):\n",
    "        pred_true_test_single[true_counter] = pred_test_single[pred]\n",
    "        true_counter += 1\n",
    "    else:\n",
    "        pred_false_test_single[false_counter] = pred_test_single[pred]\n",
    "        false_counter += 1\n",
    "        \n",
    "\n",
    "plt.hist(pred_true_test_single, bins=100, density=True, label=\"True hit pairs\")\n",
    "plt.hist(pred_false_test_single, bins=100, density=True, label=\"False hit pairs\")\n",
    "plt.xlabel(\"NN output prediction probability\")\n",
    "plt.title(\"Single event test data model predictions\")\n",
    "plt.legend()\n",
    "plt.show()"
   ]
  },
  {
   "cell_type": "code",
   "execution_count": 104,
   "id": "e76d50dc",
   "metadata": {},
   "outputs": [
    {
     "name": "stdout",
     "output_type": "stream",
     "text": [
      "[[26346  3654]\n",
      " [  289 29711]]\n",
      "0.9342833333333334\n"
     ]
    }
   ],
   "source": [
    "pred_test_confusion = (pred_test_single > 0.5)\n",
    "\n",
    "confusion_test = metrics.confusion_matrix(y_test_single, pred_test_confusion)\n",
    "accuracy_test = metrics.accuracy_score(y_test_single, pred_test_confusion)\n",
    "\n",
    "print(confusion_test)\n",
    "print(accuracy_test)"
   ]
  },
  {
   "cell_type": "code",
   "execution_count": 61,
   "id": "7f333ca3",
   "metadata": {},
   "outputs": [
    {
     "name": "stdout",
     "output_type": "stream",
     "text": [
      "(100000, 11)\n",
      "(100000,)\n"
     ]
    }
   ],
   "source": [
    "# Now test with multiple events (events 50-55)\n",
    "N_hits_event = 10000\n",
    "X_test_50, y_test_50 = multiple_events_brute(5,N_hits_event,50)"
   ]
  },
  {
   "cell_type": "code",
   "execution_count": 105,
   "id": "740d6227",
   "metadata": {
    "scrolled": true
   },
   "outputs": [
    {
     "name": "stdout",
     "output_type": "stream",
     "text": [
      "3125/3125 [==============================] - 12s 4ms/step\n"
     ]
    }
   ],
   "source": [
    "pred_test_mult = model_mult.predict(X_test_50)\n",
    "#pred_test_mult = model_mult_saved.predict(X_test_50)"
   ]
  },
  {
   "cell_type": "code",
   "execution_count": 106,
   "id": "25006d80",
   "metadata": {},
   "outputs": [
    {
     "data": {
      "image/png": "[encoded data removed]",
      "text/plain": [
       "<Figure size 432x288 with 1 Axes>"
      ]
     },
     "metadata": {
      "needs_background": "light"
     },
     "output_type": "display_data"
    }
   ],
   "source": [
    "# plot distribution of predictions\n",
    "N_pred_test_mult = len(y_test_50)\n",
    "pred_true_test_mult = np.empty(int(N_pred_test_mult/2), dtype=float)\n",
    "pred_false_test_mult = np.empty(int(N_pred_test_mult/2), dtype=float)\n",
    "true_counter = 0\n",
    "false_counter = 0\n",
    "\n",
    "for pred in range(N_pred_test_mult):\n",
    "    if (y_test_50[pred] == True):\n",
    "        pred_true_test_mult[true_counter] = pred_test_mult[pred]\n",
    "        true_counter += 1\n",
    "    else:\n",
    "        pred_false_test_mult[false_counter] = pred_test_mult[pred]\n",
    "        false_counter += 1\n",
    "        \n",
    "\n",
    "plt.hist(pred_true_test_mult, bins=100, density=True, label=\"True hit pairs\")\n",
    "plt.hist(pred_false_test_mult, bins=100, density=True, label=\"False hit pairs\")\n",
    "plt.xlabel(\"NN output prediction probability\")\n",
    "plt.title(\"Multiple events test data model predictions\")\n",
    "plt.legend()\n",
    "plt.show()"
   ]
  },
  {
   "cell_type": "code",
   "execution_count": 93,
   "id": "68d6b46d",
   "metadata": {},
   "outputs": [
    {
     "name": "stdout",
     "output_type": "stream",
     "text": [
      "[[49856   144]\n",
      " [ 1656 48344]]\n",
      "0.982\n"
     ]
    }
   ],
   "source": [
    "pred_test_confusion = (pred_test_mult > 0.5)\n",
    "\n",
    "confusion_test = metrics.confusion_matrix(y_test_50, pred_test_confusion)\n",
    "accuracy_test = metrics.accuracy_score(y_test_50, pred_test_confusion)\n",
    "\n",
    "print(confusion_test)\n",
    "print(accuracy_test)"
   ]
  },
  {
   "cell_type": "code",
   "execution_count": 94,
   "id": "70feb098",
   "metadata": {},
   "outputs": [
    {
     "name": "stdout",
     "output_type": "stream",
     "text": [
      "(200000, 11)\n",
      "(200000,)\n"
     ]
    }
   ],
   "source": [
    "# Now test with multiple events (events 60-70)\n",
    "N_hits_event = 10000\n",
    "X_test_60, y_test_60 = multiple_events_brute(10,N_hits_event,60)"
   ]
  },
  {
   "cell_type": "code",
   "execution_count": 107,
   "id": "2f3697a9",
   "metadata": {},
   "outputs": [
    {
     "name": "stdout",
     "output_type": "stream",
     "text": [
      "6250/6250 [==============================] - 23s 4ms/step\n"
     ]
    }
   ],
   "source": [
    "pred_test_mult = model_mult.predict(X_test_60)"
   ]
  },
  {
   "cell_type": "code",
   "execution_count": 108,
   "id": "f07e901b",
   "metadata": {},
   "outputs": [
    {
     "data": {
      "image/png": "[encoded data removed]",
      "text/plain": [
       "<Figure size 432x288 with 1 Axes>"
      ]
     },
     "metadata": {
      "needs_background": "light"
     },
     "output_type": "display_data"
    }
   ],
   "source": [
    "# plot distribution of predictions\n",
    "N_pred_test_mult = len(y_test_60)\n",
    "pred_true_test_mult = np.empty(int(N_pred_test_mult/2), dtype=float)\n",
    "pred_false_test_mult = np.empty(int(N_pred_test_mult/2), dtype=float)\n",
    "true_counter = 0\n",
    "false_counter = 0\n",
    "\n",
    "for pred in range(N_pred_test_mult):\n",
    "    if (y_test_60[pred] == True):\n",
    "        pred_true_test_mult[true_counter] = pred_test_mult[pred]\n",
    "        true_counter += 1\n",
    "    else:\n",
    "        pred_false_test_mult[false_counter] = pred_test_mult[pred]\n",
    "        false_counter += 1\n",
    "        \n",
    "\n",
    "plt.hist(pred_true_test_mult, bins=100, density=True, label=\"True hit pairs\")\n",
    "plt.hist(pred_false_test_mult, bins=100, density=True, label=\"False hit pairs\")\n",
    "plt.xlabel(\"NN output prediction probability\")\n",
    "plt.title(\"Multiple events test data model predictions\")\n",
    "plt.legend()\n",
    "plt.show()"
   ]
  },
  {
   "cell_type": "code",
   "execution_count": 98,
   "id": "08c5fb70",
   "metadata": {},
   "outputs": [
    {
     "name": "stdout",
     "output_type": "stream",
     "text": [
      "[[90791  9209]\n",
      " [ 3118 96882]]\n",
      "0.938365\n"
     ]
    }
   ],
   "source": [
    "pred_test_confusion = (pred_test_mult > 0.5)\n",
    "\n",
    "confusion_test = metrics.confusion_matrix(y_test_60, pred_test_confusion)\n",
    "accuracy_test = metrics.accuracy_score(y_test_60, pred_test_confusion)\n",
    "\n",
    "print(confusion_test)\n",
    "print(accuracy_test)"
   ]
  },
  {
   "cell_type": "code",
   "execution_count": null,
   "id": "71a22201",
   "metadata": {},
   "outputs": [],
   "source": []
  }
 ],
 "metadata": {
  "kernelspec": {
   "display_name": "Python 3 (ipykernel)",
   "language": "python",
   "name": "python3"
  },
  "language_info": {
   "codemirror_mode": {
    "name": "ipython",
    "version": 3
   },
   "file_extension": ".py",
   "mimetype": "text/x-python",
   "name": "python",
   "nbconvert_exporter": "python",
   "pygments_lexer": "ipython3",
   "version": "3.10.4"
  }
 },
 "nbformat": 4,
 "nbformat_minor": 5
}
